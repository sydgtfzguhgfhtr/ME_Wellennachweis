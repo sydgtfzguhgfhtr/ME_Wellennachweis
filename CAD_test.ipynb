{
 "cells": [
  {
   "cell_type": "code",
   "execution_count": null,
   "metadata": {},
   "outputs": [],
   "source": [
    "import openpyscad as ops"
   ]
  },
  {
   "cell_type": "code",
   "execution_count": 1,
   "metadata": {},
   "outputs": [],
   "source": [
    "l_AB = 290\n",
    "l_z22 = 115\n",
    "l_z21 = 95\n",
    "\n",
    "Festlager = 0\n",
    "Loslager  = -l_AB\n",
    "B_fl = 31\n",
    "B_ll = 12\n",
    "B_Zahnrad = 60\n",
    "B_Ritzel = 80\n",
    "\n",
    "\n",
    "geometrie = (\n",
    "    (-l_AB-30,30),\n",
    "    # Loslager\n",
    "    (-l_AB+B_ll/2,30),\n",
    "    (-l_AB+B_ll/2,35),\n",
    "    (-l_z22-B_Ritzel/2-2,42),\n",
    "    (-l_z22,42),# Ritzel\n",
    "    (-B_fl/2,42),\n",
    "    (-B_fl/2,40),\n",
    "    # Festlager\n",
    "    (l_z21,40),# Zahnrad\n",
    "    (l_z21+B_Zahnrad/2+5,40)\n",
    ")"
   ]
  },
  {
   "cell_type": "code",
   "execution_count": null,
   "metadata": {},
   "outputs": [],
   "source": []
  }
 ],
 "metadata": {
  "kernelspec": {
   "display_name": "Python 3",
   "language": "python",
   "name": "python3"
  },
  "language_info": {
   "codemirror_mode": {
    "name": "ipython",
    "version": 3
   },
   "file_extension": ".py",
   "mimetype": "text/x-python",
   "name": "python",
   "nbconvert_exporter": "python",
   "pygments_lexer": "ipython3",
   "version": "3.10.5"
  },
  "orig_nbformat": 4
 },
 "nbformat": 4,
 "nbformat_minor": 2
}

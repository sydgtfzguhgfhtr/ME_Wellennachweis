{
 "cells": [
  {
   "cell_type": "code",
   "execution_count": 65,
   "metadata": {},
   "outputs": [],
   "source": [
    "from Wellennachweis_Funktionen import *"
   ]
  },
  {
   "attachments": {},
   "cell_type": "markdown",
   "metadata": {},
   "source": [
    "# 0 gegebene Werte"
   ]
  },
  {
   "attachments": {},
   "cell_type": "markdown",
   "metadata": {},
   "source": [
    "### Geometrie:"
   ]
  },
  {
   "cell_type": "code",
   "execution_count": 66,
   "metadata": {},
   "outputs": [],
   "source": [
    "Art = \"Absatz\"\n",
    "D = 50 #mm\n",
    "d = 42 #mm\n",
    "r = 5 #mm\n",
    "t = (D-d)/2 #mm"
   ]
  },
  {
   "attachments": {},
   "cell_type": "markdown",
   "metadata": {},
   "source": [
    "### Beanspruchung"
   ]
  },
  {
   "cell_type": "code",
   "execution_count": 67,
   "metadata": {},
   "outputs": [],
   "source": [
    "sigma_bm = 500 #Nmm^-2\n",
    "sigma_bq = 50 #Nmm^-2\n",
    "tau_tm = 100 #Nmm^-2\n",
    "tau_ta = 30 #Nmm^-2\n",
    "sigma_zdm = 0 #Nmm^-2\n",
    "sigma_zda = 0 #Nmm^-2"
   ]
  },
  {
   "attachments": {},
   "cell_type": "markdown",
   "metadata": {},
   "source": [
    "### Oberfläche"
   ]
  },
  {
   "cell_type": "code",
   "execution_count": 68,
   "metadata": {},
   "outputs": [],
   "source": [
    "Rz = 5 #µm"
   ]
  },
  {
   "attachments": {},
   "cell_type": "markdown",
   "metadata": {},
   "source": [
    "### Werkstoff"
   ]
  },
  {
   "cell_type": "code",
   "execution_count": 69,
   "metadata": {},
   "outputs": [],
   "source": [
    "werkstoff = \"34CrMo4\""
   ]
  },
  {
   "attachments": {},
   "cell_type": "markdown",
   "metadata": {},
   "source": [
    "# 1 Bauteilwechselfestigkeit"
   ]
  },
  {
   "attachments": {},
   "cell_type": "markdown",
   "metadata": {},
   "source": [
    "### 1.1 Zugfestigkeit und Streckgrenze, technologischer Größeneinflussfaktor"
   ]
  },
  {
   "cell_type": "code",
   "execution_count": 70,
   "metadata": {},
   "outputs": [
    {
     "name": "stdout",
     "output_type": "stream",
     "text": [
      "K1_sigma_B = 0.8713389943631755\n",
      "K1_sigma_S = 0.8317509926287681\n",
      "sigma_B_d = 871.3389943631755\n",
      "sigma_S_d = 665.4007941030145\n"
     ]
    }
   ],
   "source": [
    "d_eff = D\n",
    "\n",
    "# K1 für Zugfestigkeit [oE]\n",
    "K1_sigma_B = K1(D, \"B\", werkstoff)\n",
    "print(\"K1_sigma_B =\", K1_sigma_B)\n",
    "\n",
    "# K1 für Streckgrenze [oE]\n",
    "K1_sigma_S = K1(D, \"S\", werkstoff)\n",
    "print(\"K1_sigma_S =\", K1_sigma_S)\n",
    "\n",
    "# Zugfestigkeit [Nmm^-2]\n",
    "sigma_B_d = Zugfestigkeit(D, werkstoff)\n",
    "print(\"sigma_B_d =\", sigma_B_d)\n",
    "\n",
    "# Streckgrenze [Nmm^-2]\n",
    "sigma_S_d = Streckgrenze(D, werkstoff)\n",
    "print(\"sigma_S_d =\", sigma_S_d)"
   ]
  },
  {
   "attachments": {},
   "cell_type": "markdown",
   "metadata": {},
   "source": [
    "### 1.2 Kerbwirkungszahlen"
   ]
  },
  {
   "cell_type": "code",
   "execution_count": 71,
   "metadata": {},
   "outputs": [
    {
     "name": "stdout",
     "output_type": "stream",
     "text": [
      "alpha_sigma_b = 1.5572817574523055\n",
      "alpha_tau = 1.2828771540477546\n",
      "alpha_zd = 1.6980218428592044\n",
      "\n",
      "\n",
      "beta_zd = 1.6326298787155082\n",
      "beta_sigma = 1.4973097887328213\n",
      "beta_tau = 1.2502697690565296\n"
     ]
    }
   ],
   "source": [
    "if Art == \"Absatz\" or \"umlaufende Rundnut\":\n",
    "    # Formzahlen\n",
    "    alpha_sigma_b = Formzahl(Art, \"Biegung\", D, d, r)\n",
    "    print(\"alpha_sigma_b =\", alpha_sigma_b)\n",
    "\n",
    "    alpha_tau = Formzahl(Art, \"Torsion\", D, d, r)\n",
    "    print(\"alpha_tau =\", alpha_tau)\n",
    "\n",
    "    alpha_zd = Formzahl(Art, \"Zug/Druck\", D, d, r)\n",
    "    print(\"alpha_zd =\", alpha_zd)\n",
    "\n",
    "    print(\"\\n\")\n",
    "\n",
    "    # Kerbwirkungszahlen\n",
    "    (beta_zd, beta_sigma, beta_tau) = Kerbwirkungszahl_mit_Fromzahl(werkstoff, alpha_zd, alpha_sigma_b, alpha_tau, Art, D, d, r)\n",
    "    print(\"beta_zd =\",beta_zd)\n",
    "    print(\"beta_sigma =\",beta_sigma)\n",
    "    print(\"beta_tau =\", beta_tau)\n",
    "\n",
    "# noch für andere Fälle ergänzen"
   ]
  },
  {
   "attachments": {},
   "cell_type": "markdown",
   "metadata": {},
   "source": [
    "### 1.3 weitere Einflussfaktoren"
   ]
  },
  {
   "cell_type": "code",
   "execution_count": 72,
   "metadata": {},
   "outputs": [
    {
     "name": "stdout",
     "output_type": "stream",
     "text": [
      "K2 = 0.884985276358004\n",
      "\n",
      "\n",
      "K_F_sigma = 0.9017146306159467\n",
      "K_F_tau = 0.9434859126041693\n",
      "\n",
      "\n",
      "KV = 1\n"
     ]
    }
   ],
   "source": [
    "# geometrischer Einflussfaktor\n",
    "K_2 = K2(d)\n",
    "print(\"K2 =\", K_2)\n",
    "\n",
    "print(\"\\n\")\n",
    "\n",
    "# Einflussfaktor\n",
    "(K_F_sigma, K_F_tau) = KF(Rz, werkstoff, D)\n",
    "print(\"K_F_sigma =\", K_F_sigma)\n",
    "print(\"K_F_tau =\", K_F_tau)\n",
    "\n",
    "print(\"\\n\")\n",
    "\n",
    "# Einflussfaktor der Oberflächenverfestigung\n",
    "K_V = KV(\"nein\", D, Art)\n",
    "print(\"KV =\", K_V)"
   ]
  },
  {
   "attachments": {},
   "cell_type": "markdown",
   "metadata": {},
   "source": [
    "### 1.4 Gesamteinflussfaktor"
   ]
  },
  {
   "cell_type": "code",
   "execution_count": 73,
   "metadata": {},
   "outputs": [
    {
     "name": "stdout",
     "output_type": "stream",
     "text": [
      "K_sigma = 1.800901923884255\n",
      "K_tau = 1.4726569443864075\n"
     ]
    }
   ],
   "source": [
    "(K_sigma, K_tau) = Gesamtgrößeneinflussfaktor(D, d, beta_sigma, beta_tau, Rz, werkstoff, \"nein\", Art)\n",
    "print(\"K_sigma =\", K_sigma)\n",
    "print(\"K_tau =\", K_tau)"
   ]
  },
  {
   "attachments": {},
   "cell_type": "markdown",
   "metadata": {},
   "source": [
    "### 1.5 Bauteilwechselfestigkeiten"
   ]
  },
  {
   "cell_type": "code",
   "execution_count": 74,
   "metadata": {},
   "outputs": [
    {
     "name": "stdout",
     "output_type": "stream",
     "text": [
      "sigma_bWK = 241.9173922819289\n",
      "tau_tWK = 177.50345679989132\n"
     ]
    }
   ],
   "source": [
    "(sigma_bWK, tau_tWK) = Bauteilwechselfestigkeiten(D, werkstoff, K_sigma, K_tau)\n",
    "print(\"sigma_bWK =\", sigma_bWK)\n",
    "print(\"tau_tWK =\", tau_tWK)"
   ]
  },
  {
   "attachments": {},
   "cell_type": "markdown",
   "metadata": {},
   "source": [
    "# 2 Bauteilfließgrenzen"
   ]
  },
  {
   "cell_type": "code",
   "execution_count": 75,
   "metadata": {},
   "outputs": [
    {
     "name": "stdout",
     "output_type": "stream",
     "text": [
      "gamma_F_sigma = 1\n",
      "gamma_F_tau = 1\n",
      "gamma_F_zd = 1.05\n",
      "\n",
      "\n",
      "K2F_sigma = 1.2\n",
      "K2F_tau = 1.2\n",
      "K2F_zd = 1\n",
      "\n",
      "\n",
      "sigma_bFK = 798.4809529236173\n",
      "tau_tFK = 461.00319311323943\n"
     ]
    }
   ],
   "source": [
    "# Erhöhungsfaktor der Fließgrenze\n",
    "gamma_F_sigma = Erhöhungsfaktor_der_Fließgrenze(beta_sigma, \"Biegung\")\n",
    "print(\"gamma_F_sigma =\", gamma_F_sigma)\n",
    "\n",
    "gamma_F_tau = Erhöhungsfaktor_der_Fließgrenze(beta_tau, \"Torsion\")\n",
    "print(\"gamma_F_tau =\", gamma_F_tau)\n",
    "\n",
    "gamma_F_zd = Erhöhungsfaktor_der_Fließgrenze(beta_zd, \"Zug/Druck\")\n",
    "print(\"gamma_F_zd =\", gamma_F_zd)\n",
    "\n",
    "print(\"\\n\")\n",
    "\n",
    "# statische Stützwirkung\n",
    "K_2F_sigma = K2F(\"Biegung\")\n",
    "print(\"K2F_sigma =\", K_2F_sigma)\n",
    "\n",
    "K_2F_tau = K2F(\"Torsion\")\n",
    "print(\"K2F_tau =\", K_2F_tau)\n",
    "\n",
    "K_2F_zd = K2F(\"Zug/Druck\")\n",
    "print(\"K2F_zd =\",K_2F_zd)\n",
    "\n",
    "print(\"\\n\")\n",
    "\n",
    "# Bauteilfließgrenzen\n",
    "(sigma_bFK, tau_tFK) = Bauteilfließgrenzen(beta_sigma, beta_tau, D, werkstoff)\n",
    "print(\"sigma_bFK =\", sigma_bFK)\n",
    "print(\"tau_tFK =\", tau_tFK)"
   ]
  },
  {
   "attachments": {},
   "cell_type": "markdown",
   "metadata": {},
   "source": [
    "# 3 Gestaltfestigkeiten"
   ]
  },
  {
   "attachments": {},
   "cell_type": "markdown",
   "metadata": {},
   "source": [
    "### 3.1 Mittelspannungsempfindlichkeit"
   ]
  },
  {
   "cell_type": "code",
   "execution_count": 76,
   "metadata": {},
   "outputs": [
    {
     "name": "stdout",
     "output_type": "stream",
     "text": [
      "sigma_mv = 529.1502622129182\n",
      "tau_mv = 305.5050463303894\n",
      "\n",
      "\n",
      "Psi_b_sigma_K = 0.16119652451901767\n",
      "Psi_tau_K = 0.1134080916723167\n"
     ]
    }
   ],
   "source": [
    "# Vergleichsmittelspannung\n",
    "(sigma_mv, tau_mv) = Vergleichsmittelspannungen(sigma_zdm, sigma_bm, tau_tm)\n",
    "print(\"sigma_mv =\", sigma_mv)\n",
    "print(\"tau_mv =\", tau_mv)\n",
    "\n",
    "print(\"\\n\")\n",
    "\n",
    "# Einflussgrößenfaktor der Mittelspannungsempfindlichkeit\n",
    "(Psi_zd_b_sigma_K, Psi_tau_K) = Mittelspannungsempfindlichkeit(D, tau_tWK, sigma_bWK, werkstoff)\n",
    "print(\"Psi_b_sigma_K =\", Psi_zd_b_sigma_K)\n",
    "print(\"Psi_tau_K =\", Psi_tau_K)"
   ]
  },
  {
   "attachments": {},
   "cell_type": "markdown",
   "metadata": {},
   "source": [
    "### 3.2 Gestaltfestigkeit"
   ]
  },
  {
   "cell_type": "code",
   "execution_count": 77,
   "metadata": {},
   "outputs": [
    {
     "name": "stdout",
     "output_type": "stream",
     "text": [
      "True\n",
      "True\n"
     ]
    }
   ],
   "source": [
    "# Bedingung prüfen\n",
    "\n",
    "print(sigma_mv <= (sigma_bFK-sigma_bWK)/(1-Psi_zd_b_sigma_K))\n",
    "print(tau_mv <= ((tau_tFK-tau_tWK)/(1-Psi_tau_K)))"
   ]
  },
  {
   "cell_type": "code",
   "execution_count": 78,
   "metadata": {},
   "outputs": [
    {
     "name": "stdout",
     "output_type": "stream",
     "text": [
      "sigma_bADK = 156.6202090648796\n",
      "tau_tADK = 142.85671249929916\n"
     ]
    }
   ],
   "source": [
    "# Wechselfestigkeiten (Dauerbruch)\n",
    "(sigma_bADK, tau_tADK) = Gestaltfestigkeit(D, werkstoff, gamma_F_sigma, gamma_F_tau, sigma_mv, tau_mv, sigma_bWK, Psi_zd_b_sigma_K, tau_tWK, Psi_tau_K)\n",
    "print(\"sigma_bADK =\", sigma_bADK)\n",
    "print(\"tau_tADK =\", tau_tADK)"
   ]
  },
  {
   "cell_type": "code",
   "execution_count": 79,
   "metadata": {},
   "outputs": [
    {
     "name": "stdout",
     "output_type": "stream",
     "text": [
      "sigma_b_max = 550\n",
      "tau_tmax = 130\n"
     ]
    }
   ],
   "source": [
    "# Maximalwerte\n",
    "sigma_bmax = sigma_bm+sigma_bq\n",
    "tau_tmax = tau_tm + tau_ta\n",
    "\n",
    "print(\"sigma_b_max =\", sigma_bmax)\n",
    "print(\"tau_tmax =\", tau_tmax)"
   ]
  },
  {
   "attachments": {},
   "cell_type": "markdown",
   "metadata": {},
   "source": [
    "# 4 Sicherheiten"
   ]
  },
  {
   "cell_type": "code",
   "execution_count": 80,
   "metadata": {},
   "outputs": [
    {
     "name": "stdout",
     "output_type": "stream",
     "text": [
      "S_F = 1.3435511760588619\n",
      "S_D = 2.6169695502308072\n"
     ]
    }
   ],
   "source": [
    "# Sicherheit gegen bleibende Verformung:\n",
    "S_F = 1/(np.sqrt((sigma_bmax/sigma_bFK)**2+(tau_tmax/tau_tFK)**2))\n",
    "print(\"S_F =\", S_F)\n",
    "\n",
    "# Sicherheit gegen Dauerbruch:\n",
    "S_D = 1/(np.sqrt((sigma_bq/sigma_bADK)**2+(tau_ta/tau_tADK)**2))\n",
    "print(\"S_D =\", S_D)"
   ]
  }
 ],
 "metadata": {
  "kernelspec": {
   "display_name": "Python 3",
   "language": "python",
   "name": "python3"
  },
  "language_info": {
   "codemirror_mode": {
    "name": "ipython",
    "version": 3
   },
   "file_extension": ".py",
   "mimetype": "text/x-python",
   "name": "python",
   "nbconvert_exporter": "python",
   "pygments_lexer": "ipython3",
   "version": "3.10.5"
  },
  "orig_nbformat": 4
 },
 "nbformat": 4,
 "nbformat_minor": 2
}

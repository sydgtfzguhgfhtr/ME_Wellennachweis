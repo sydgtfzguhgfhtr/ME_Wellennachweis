{
 "cells": [
  {
   "cell_type": "code",
   "execution_count": 1,
   "metadata": {},
   "outputs": [],
   "source": [
    "from numba import njit\n",
    "from Klassen import Welle,Werkstoff\n",
    "from timeit import timeit\n",
    "import numpy as np"
   ]
  },
  {
   "cell_type": "code",
   "execution_count": 2,
   "metadata": {},
   "outputs": [],
   "source": [
    "Werkstoff.aus_csv_laden()\n",
    "test = Welle(\"Test\", 0, 200, \"42CrMo4\" , 2, \"nein\",dz=0.5)\n",
    "\n",
    "test.set_geometrie(\n",
    "    ((0,25),\n",
    "    (40,25),\n",
    "    (40,21),\n",
    "    (80,21),\n",
    "    (80,27.5),\n",
    "    (160,27.5),\n",
    "    (160,15),\n",
    "    (300,15))\n",
    ")\n",
    "test.set_Kraft(3500, \"r\", 20, 0, 0)\n",
    "test.set_Kraft(-4500, \"r\", 280, 0, 0)\n",
    "\n",
    "test.lagerkräfte_berechnen()"
   ]
  },
  {
   "cell_type": "code",
   "execution_count": 3,
   "metadata": {},
   "outputs": [],
   "source": [
    "test.verformung_berechnen()"
   ]
  },
  {
   "cell_type": "code",
   "execution_count": null,
   "metadata": {},
   "outputs": [],
   "source": []
  }
 ],
 "metadata": {
  "kernelspec": {
   "display_name": "Python 3",
   "language": "python",
   "name": "python3"
  },
  "language_info": {
   "codemirror_mode": {
    "name": "ipython",
    "version": 3
   },
   "file_extension": ".py",
   "mimetype": "text/x-python",
   "name": "python",
   "nbconvert_exporter": "python",
   "pygments_lexer": "ipython3",
   "version": "3.11.1"
  },
  "orig_nbformat": 4
 },
 "nbformat": 4,
 "nbformat_minor": 2
}

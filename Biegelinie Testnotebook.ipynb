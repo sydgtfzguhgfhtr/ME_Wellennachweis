{
 "cells": [
  {
   "cell_type": "code",
   "execution_count": 1,
   "metadata": {},
   "outputs": [],
   "source": [
    "import numpy as np\n",
    "import matplotlib.pyplot as plt\n",
    "from Klassen import Welle\n",
    "from numpy.random import randint"
   ]
  },
  {
   "attachments": {},
   "cell_type": "markdown",
   "metadata": {},
   "source": [
    "# Allgemeine Berechnung für die Biegelinie"
   ]
  },
  {
   "attachments": {},
   "cell_type": "markdown",
   "metadata": {},
   "source": [
    "Vereinfachungen und Randbedingungen:\n",
    "- z beginnt immer im Festlager und geht bis zum Loslager\n",
    "- Welleninformationen können über Klasse Welle abgerufen werden (Durchmesser, Kräfte, etc)\n",
    "- Alle Längen in $mm$\n",
    "- Belastungen in Welle.belastungen sind nach z sortiert"
   ]
  }
 ],
 "metadata": {
  "kernelspec": {
   "display_name": "Python 3",
   "language": "python",
   "name": "python3"
  },
  "language_info": {
   "codemirror_mode": {
    "name": "ipython",
    "version": 3
   },
   "file_extension": ".py",
   "mimetype": "text/x-python",
   "name": "python",
   "nbconvert_exporter": "python",
   "pygments_lexer": "ipython3",
   "version": "3.11.1"
  },
  "orig_nbformat": 4
 },
 "nbformat": 4,
 "nbformat_minor": 2
}

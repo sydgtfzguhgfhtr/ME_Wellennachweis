{
 "cells": [
  {
   "cell_type": "code",
   "execution_count": 41,
   "metadata": {},
   "outputs": [],
   "source": [
    "from Wellennachweis_Funktionen import *"
   ]
  },
  {
   "attachments": {},
   "cell_type": "markdown",
   "metadata": {},
   "source": [
    "# gegebene Werte"
   ]
  },
  {
   "attachments": {},
   "cell_type": "markdown",
   "metadata": {},
   "source": [
    "### Geometrie:"
   ]
  },
  {
   "cell_type": "code",
   "execution_count": 42,
   "metadata": {},
   "outputs": [],
   "source": [
    "D = 50 #mm\n",
    "d = 42 #mm\n",
    "r = 5 #mm\n",
    "t = (D-d)/2 #mm\n",
    "Art = \"Absatz\""
   ]
  },
  {
   "attachments": {},
   "cell_type": "markdown",
   "metadata": {},
   "source": [
    "### Beanspruchung"
   ]
  },
  {
   "cell_type": "code",
   "execution_count": 43,
   "metadata": {},
   "outputs": [],
   "source": [
    "sigma_bm = 500 #Nmm^-2\n",
    "sigma_bq = 50 #Nmm^-2\n",
    "tau_tm = 100 #Nmm^-2\n",
    "tau_ta = 30 #Nmm^-2"
   ]
  },
  {
   "attachments": {},
   "cell_type": "markdown",
   "metadata": {},
   "source": [
    "### Oberfläche"
   ]
  },
  {
   "cell_type": "code",
   "execution_count": 44,
   "metadata": {},
   "outputs": [],
   "source": [
    "Rz = 5 #µm"
   ]
  },
  {
   "attachments": {},
   "cell_type": "markdown",
   "metadata": {},
   "source": [
    "### Werkstoff"
   ]
  },
  {
   "cell_type": "code",
   "execution_count": 45,
   "metadata": {},
   "outputs": [],
   "source": [
    "werkstoff = \"34CrMo4\""
   ]
  },
  {
   "attachments": {},
   "cell_type": "markdown",
   "metadata": {},
   "source": [
    "# 1. Bauteilwechselfestigkeit"
   ]
  },
  {
   "attachments": {},
   "cell_type": "markdown",
   "metadata": {},
   "source": [
    "## 1.1 Zugfestigkeit und Streckgrenze, technologischer Größeneinflussfaktor"
   ]
  },
  {
   "cell_type": "code",
   "execution_count": 46,
   "metadata": {},
   "outputs": [
    {
     "name": "stdout",
     "output_type": "stream",
     "text": [
      "K1_sigma_B = 0.8713389943631755\n",
      "K1_sigma_S = 0.8317509926287681\n",
      "sigma_B_d = 871.3389943631755\n",
      "sigma_S_d = 665.4007941030145\n"
     ]
    }
   ],
   "source": [
    "d_eff = D\n",
    "\n",
    "# K1 für Zugfestigkeit [oE]\n",
    "K1_sigma_B = K1(D, \"B\", werkstoff)\n",
    "print(\"K1_sigma_B =\", K1_sigma_B)\n",
    "\n",
    "# K1 für Streckgrenze [oE]\n",
    "K1_sigma_S = K1(D, \"S\", werkstoff)\n",
    "print(\"K1_sigma_S =\", K1_sigma_S)\n",
    "\n",
    "# Zugfestigkeit [Nmm^-2]\n",
    "sigma_B_d = Zugfestigkeit(D, werkstoff)\n",
    "print(\"sigma_B_d =\", sigma_B_d)\n",
    "\n",
    "# Streckgrenze [Nmm^-2]\n",
    "sigma_S_d = Streckgrenze(D, werkstoff)\n",
    "print(\"sigma_S_d =\", sigma_S_d)"
   ]
  },
  {
   "attachments": {},
   "cell_type": "markdown",
   "metadata": {},
   "source": [
    "## 1.2 Kerbwirkungszahlen"
   ]
  },
  {
   "cell_type": "code",
   "execution_count": 47,
   "metadata": {},
   "outputs": [
    {
     "name": "stdout",
     "output_type": "stream",
     "text": [
      "alpha_sigma_b = 1.5572817574523055\n",
      "alpha_tau = 1.2828771540477546\n",
      "alpha_zd = 1.6980218428592044\n",
      "\n",
      "\n",
      "beta_zd = 1.6326298787155082\n",
      "beta_sigma = 1.4973097887328213\n",
      "beta_tau = 1.2502697690565296\n"
     ]
    }
   ],
   "source": [
    "if Art == \"Absatz\" or \"umlaufende Rundnut\":\n",
    "    alpha_sigma_b = Formzahl(Art, \"Biegung\", D, d, r)\n",
    "    print(\"alpha_sigma_b =\", alpha_sigma_b)\n",
    "\n",
    "    alpha_tau = Formzahl(Art, \"Torsion\", D, d, r)\n",
    "    print(\"alpha_tau =\", alpha_tau)\n",
    "\n",
    "    alpha_zd = Formzahl(Art, \"Zug/Druck\", D, d, r)\n",
    "    print(\"alpha_zd =\", alpha_zd)\n",
    "\n",
    "    print(\"\\n\")\n",
    "\n",
    "    (beta_zd, beta_sigma, beta_tau) = Kerbwirkungszahl_mit_Fromzahl(werkstoff, alpha_zd, alpha_sigma_b, alpha_tau, Art, D, d, r)\n",
    "    print(\"beta_zd =\",beta_zd)\n",
    "    print(\"beta_sigma =\",beta_sigma)\n",
    "    print(\"beta_tau =\", beta_tau)\n",
    "\n",
    "# noch für andere Fälle ergänzen"
   ]
  },
  {
   "attachments": {},
   "cell_type": "markdown",
   "metadata": {},
   "source": [
    "## 1.3 weitere Einflussfaktoren"
   ]
  },
  {
   "cell_type": "code",
   "execution_count": 48,
   "metadata": {},
   "outputs": [
    {
     "name": "stdout",
     "output_type": "stream",
     "text": [
      "K2 = 0.884985276358004\n",
      "\n",
      "\n",
      "K_F_sigma = 0.9017146306159467\n",
      "K_F_tau = 0.9434859126041693\n",
      "\n",
      "\n",
      "KV = 1\n"
     ]
    }
   ],
   "source": [
    "# geometrischer Einflussfaktor\n",
    "K_2 = K2(d)\n",
    "print(\"K2 =\", K_2)\n",
    "\n",
    "print(\"\\n\")\n",
    "\n",
    "# Einflussfaktor\n",
    "(K_F_sigma, K_F_tau) = KF(Rz, werkstoff, D)\n",
    "print(\"K_F_sigma =\", K_F_sigma)\n",
    "print(\"K_F_tau =\", K_F_tau)\n",
    "\n",
    "print(\"\\n\")\n",
    "\n",
    "# Einflussfaktor der Oberflächenverfestigung\n",
    "K_V = KV(\"nein\", D, Art)\n",
    "print(\"KV =\", K_V)"
   ]
  },
  {
   "attachments": {},
   "cell_type": "markdown",
   "metadata": {},
   "source": [
    "## 1.4 Gesamteinflussfaktor"
   ]
  },
  {
   "cell_type": "code",
   "execution_count": null,
   "metadata": {},
   "outputs": [],
   "source": [
    "(K_sigma, K_tau) = Gesamtgrößeneinflussfaktor(D, d, beta_sigma, beta_tau, Rz, werkstoff, \"nein\", Art)\n",
    "print(\"K_sigma =\", K_sigma)\n",
    "print(\"K_tau =\", K_tau)"
   ]
  }
 ],
 "metadata": {
  "kernelspec": {
   "display_name": "Python 3",
   "language": "python",
   "name": "python3"
  },
  "language_info": {
   "codemirror_mode": {
    "name": "ipython",
    "version": 3
   },
   "file_extension": ".py",
   "mimetype": "text/x-python",
   "name": "python",
   "nbconvert_exporter": "python",
   "pygments_lexer": "ipython3",
   "version": "3.10.5"
  },
  "orig_nbformat": 4
 },
 "nbformat": 4,
 "nbformat_minor": 2
}

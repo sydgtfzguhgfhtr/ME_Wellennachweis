{
 "cells": [
  {
   "cell_type": "code",
   "execution_count": null,
   "metadata": {},
   "outputs": [],
   "source": [
    "from Wellennachweis_Funktionen import *"
   ]
  },
  {
   "attachments": {},
   "cell_type": "markdown",
   "metadata": {},
   "source": [
    "# gegebene Werte"
   ]
  },
  {
   "attachments": {},
   "cell_type": "markdown",
   "metadata": {},
   "source": [
    "### Geometrie:"
   ]
  },
  {
   "cell_type": "code",
   "execution_count": 26,
   "metadata": {},
   "outputs": [],
   "source": [
    "D = 50 #mm\n",
    "d = 42 #mm\n",
    "r = 5 #mm\n",
    "t = (D-d)/2 #mm"
   ]
  },
  {
   "attachments": {},
   "cell_type": "markdown",
   "metadata": {},
   "source": [
    "### Beanspruchung"
   ]
  },
  {
   "cell_type": "code",
   "execution_count": 27,
   "metadata": {},
   "outputs": [],
   "source": [
    "sigma_bm = 500 #Nmm^-2\n",
    "sigma_bq = 50 #Nmm^-2\n",
    "tau_tm = 100 #Nmm^-2\n",
    "tau_ta = 30 #Nmm^-2"
   ]
  },
  {
   "attachments": {},
   "cell_type": "markdown",
   "metadata": {},
   "source": [
    "### Oberfläche"
   ]
  },
  {
   "cell_type": "code",
   "execution_count": 28,
   "metadata": {},
   "outputs": [],
   "source": [
    "Rz = 5 #µm"
   ]
  },
  {
   "attachments": {},
   "cell_type": "markdown",
   "metadata": {},
   "source": [
    "### Werkstoff"
   ]
  },
  {
   "cell_type": "code",
   "execution_count": 29,
   "metadata": {},
   "outputs": [],
   "source": [
    "werkstoff = \"34CrMo4\""
   ]
  },
  {
   "attachments": {},
   "cell_type": "markdown",
   "metadata": {},
   "source": [
    "# 1. Bauteilwechselfestigkeit"
   ]
  },
  {
   "attachments": {},
   "cell_type": "markdown",
   "metadata": {},
   "source": [
    "## 1.1 Zugfestigkeit und Streckgrenze, technologischer Größeneinflussfaktor"
   ]
  },
  {
   "cell_type": "code",
   "execution_count": 30,
   "metadata": {},
   "outputs": [
    {
     "name": "stdout",
     "output_type": "stream",
     "text": [
      "K1_sigma_B = 0.8713389943631755\n",
      "K1_sigma_S = 0.8317509926287681\n"
     ]
    },
    {
     "ename": "TypeError",
     "evalue": "Zugfestigkeit() takes 2 positional arguments but 3 were given",
     "output_type": "error",
     "traceback": [
      "\u001b[1;31m---------------------------------------------------------------------------\u001b[0m",
      "\u001b[1;31mTypeError\u001b[0m                                 Traceback (most recent call last)",
      "\u001b[1;32mc:\\Users\\Nadine\\Documents\\Studium\\Studium\\1234567890\\ME_Wellen\\ME_Wellennachweis\\Berechnung_Beispiel.ipynb Cell 13\u001b[0m in \u001b[0;36m1\n\u001b[0;32m      <a href='vscode-notebook-cell:/c%3A/Users/Nadine/Documents/Studium/Studium/1234567890/ME_Wellen/ME_Wellennachweis/Berechnung_Beispiel.ipynb#X16sZmlsZQ%3D%3D?line=8'>9</a>\u001b[0m \u001b[39mprint\u001b[39m(\u001b[39m\"\u001b[39m\u001b[39mK1_sigma_S =\u001b[39m\u001b[39m\"\u001b[39m, K1_sigma_S)\n\u001b[0;32m     <a href='vscode-notebook-cell:/c%3A/Users/Nadine/Documents/Studium/Studium/1234567890/ME_Wellen/ME_Wellennachweis/Berechnung_Beispiel.ipynb#X16sZmlsZQ%3D%3D?line=10'>11</a>\u001b[0m \u001b[39m# Zugfestigkeit\u001b[39;00m\n\u001b[1;32m---> <a href='vscode-notebook-cell:/c%3A/Users/Nadine/Documents/Studium/Studium/1234567890/ME_Wellen/ME_Wellennachweis/Berechnung_Beispiel.ipynb#X16sZmlsZQ%3D%3D?line=11'>12</a>\u001b[0m sigma_B_d \u001b[39m=\u001b[39m Zugfestigkeit(D, K1_sigma_B, werkstoff)\n\u001b[0;32m     <a href='vscode-notebook-cell:/c%3A/Users/Nadine/Documents/Studium/Studium/1234567890/ME_Wellen/ME_Wellennachweis/Berechnung_Beispiel.ipynb#X16sZmlsZQ%3D%3D?line=12'>13</a>\u001b[0m \u001b[39mprint\u001b[39m(\u001b[39m\"\u001b[39m\u001b[39msigma_B_d =\u001b[39m\u001b[39m\"\u001b[39m, sigma_B_d)\n",
      "\u001b[1;31mTypeError\u001b[0m: Zugfestigkeit() takes 2 positional arguments but 3 were given"
     ]
    }
   ],
   "source": [
    "d_eff = D\n",
    "\n",
    "# K1 für Zugfestigkeit\n",
    "K1_sigma_B = K1(D, \"B\", werkstoff)\n",
    "print(\"K1_sigma_B =\", K1_sigma_B)\n",
    "\n",
    "# K1 für Streckgrenze\n",
    "K1_sigma_S = K1(D, \"S\", werkstoff)\n",
    "print(\"K1_sigma_S =\", K1_sigma_S)\n",
    "\n",
    "# Zugfestigkeit\n",
    "sigma_B_d = Zugfestigkeit(D, K1_sigma_B, werkstoff)\n",
    "print(\"sigma_B_d =\", sigma_B_d)"
   ]
  }
 ],
 "metadata": {
  "kernelspec": {
   "display_name": "Python 3",
   "language": "python",
   "name": "python3"
  },
  "language_info": {
   "codemirror_mode": {
    "name": "ipython",
    "version": 3
   },
   "file_extension": ".py",
   "mimetype": "text/x-python",
   "name": "python",
   "nbconvert_exporter": "python",
   "pygments_lexer": "ipython3",
   "version": "3.10.5"
  },
  "orig_nbformat": 4
 },
 "nbformat": 4,
 "nbformat_minor": 2
}
